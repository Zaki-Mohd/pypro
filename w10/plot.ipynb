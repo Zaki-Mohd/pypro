{
 "cells": [
  {
   "cell_type": "code",
   "execution_count": 2,
   "metadata": {},
   "outputs": [
    {
     "name": "stdout",
     "output_type": "stream",
     "text": [
      "Note: you may need to restart the kernel to use updated packages.\n"
     ]
    },
    {
     "name": "stderr",
     "output_type": "stream",
     "text": [
      "\n",
      "[notice] A new release of pip is available: 24.2 -> 24.3.1\n",
      "[notice] To update, run: python.exe -m pip install --upgrade pip\n"
     ]
    },
    {
     "name": "stdout",
     "output_type": "stream",
     "text": [
      "Collecting plotly\n",
      "  Downloading plotly-5.24.1-py3-none-any.whl.metadata (7.3 kB)\n",
      "Requirement already satisfied: tenacity>=6.2.0 in c:\\users\\akhil\\appdata\\local\\programs\\python\\python312\\lib\\site-packages (from plotly) (8.5.0)\n",
      "Requirement already satisfied: packaging in c:\\users\\akhil\\appdata\\local\\programs\\python\\python312\\lib\\site-packages (from plotly) (24.1)\n",
      "Downloading plotly-5.24.1-py3-none-any.whl (19.1 MB)\n",
      "   ---------------------------------------- 0.0/19.1 MB ? eta -:--:--\n",
      "   - -------------------------------------- 0.8/19.1 MB 6.7 MB/s eta 0:00:03\n",
      "   ---- ----------------------------------- 2.4/19.1 MB 7.1 MB/s eta 0:00:03\n",
      "   -------- ------------------------------- 4.2/19.1 MB 8.1 MB/s eta 0:00:02\n",
      "   ------------ --------------------------- 5.8/19.1 MB 9.3 MB/s eta 0:00:02\n",
      "   ------------- -------------------------- 6.6/19.1 MB 7.1 MB/s eta 0:00:02\n",
      "   --------------- ------------------------ 7.3/19.1 MB 6.8 MB/s eta 0:00:02\n",
      "   ----------------- ---------------------- 8.4/19.1 MB 6.1 MB/s eta 0:00:02\n",
      "   ------------------- -------------------- 9.2/19.1 MB 5.8 MB/s eta 0:00:02\n",
      "   -------------------- ------------------- 10.0/19.1 MB 5.5 MB/s eta 0:00:02\n",
      "   ---------------------- ----------------- 10.7/19.1 MB 5.3 MB/s eta 0:00:02\n",
      "   ------------------------ --------------- 11.5/19.1 MB 5.2 MB/s eta 0:00:02\n",
      "   ------------------------- -------------- 12.1/19.1 MB 5.0 MB/s eta 0:00:02\n",
      "   -------------------------- ------------- 12.6/19.1 MB 4.8 MB/s eta 0:00:02\n",
      "   --------------------------- ------------ 13.1/19.1 MB 4.7 MB/s eta 0:00:02\n",
      "   ----------------------------- ---------- 13.9/19.1 MB 4.5 MB/s eta 0:00:02\n",
      "   ------------------------------ --------- 14.4/19.1 MB 4.5 MB/s eta 0:00:02\n",
      "   ------------------------------- -------- 15.2/19.1 MB 4.3 MB/s eta 0:00:01\n",
      "   --------------------------------- ------ 15.7/19.1 MB 4.2 MB/s eta 0:00:01\n",
      "   --------------------------------- ------ 16.0/19.1 MB 4.2 MB/s eta 0:00:01\n",
      "   ---------------------------------- ----- 16.3/19.1 MB 4.1 MB/s eta 0:00:01\n",
      "   ----------------------------------- ---- 16.8/19.1 MB 3.9 MB/s eta 0:00:01\n",
      "   ------------------------------------ --- 17.3/19.1 MB 3.8 MB/s eta 0:00:01\n",
      "   ------------------------------------- -- 17.8/19.1 MB 3.8 MB/s eta 0:00:01\n",
      "   ---------------------------------------  18.6/19.1 MB 3.7 MB/s eta 0:00:01\n",
      "   ---------------------------------------  18.9/19.1 MB 3.7 MB/s eta 0:00:01\n",
      "   ---------------------------------------- 19.1/19.1 MB 3.7 MB/s eta 0:00:00\n",
      "Installing collected packages: plotly\n",
      "Successfully installed plotly-5.24.1\n"
     ]
    }
   ],
   "source": [
    "pip install plotly"
   ]
  },
  {
   "cell_type": "code",
   "execution_count": 1,
   "metadata": {},
   "outputs": [
    {
     "ename": "ModuleNotFoundError",
     "evalue": "No module named 'plotly'",
     "output_type": "error",
     "traceback": [
      "\u001b[1;31m---------------------------------------------------------------------------\u001b[0m",
      "\u001b[1;31mModuleNotFoundError\u001b[0m                       Traceback (most recent call last)",
      "Cell \u001b[1;32mIn[1], line 2\u001b[0m\n\u001b[0;32m      1\u001b[0m \u001b[38;5;28;01mimport\u001b[39;00m \u001b[38;5;21;01mpandas\u001b[39;00m \u001b[38;5;28;01mas\u001b[39;00m \u001b[38;5;21;01mpd\u001b[39;00m\n\u001b[1;32m----> 2\u001b[0m \u001b[38;5;28;01mimport\u001b[39;00m \u001b[38;5;21;01mplotly\u001b[39;00m\u001b[38;5;21;01m.\u001b[39;00m\u001b[38;5;21;01mexpress\u001b[39;00m \u001b[38;5;28;01mas\u001b[39;00m \u001b[38;5;21;01mpx\u001b[39;00m\n\u001b[0;32m      4\u001b[0m \u001b[38;5;66;03m# Pandas: Create and manipulate a DataFrame\u001b[39;00m\n\u001b[0;32m      5\u001b[0m data \u001b[38;5;241m=\u001b[39m {\u001b[38;5;124m'\u001b[39m\u001b[38;5;124mName\u001b[39m\u001b[38;5;124m'\u001b[39m: [\u001b[38;5;124m'\u001b[39m\u001b[38;5;124mAlice\u001b[39m\u001b[38;5;124m'\u001b[39m, \u001b[38;5;124m'\u001b[39m\u001b[38;5;124mBob\u001b[39m\u001b[38;5;124m'\u001b[39m, \u001b[38;5;124m'\u001b[39m\u001b[38;5;124mCharlie\u001b[39m\u001b[38;5;124m'\u001b[39m], \u001b[38;5;124m'\u001b[39m\u001b[38;5;124mAge\u001b[39m\u001b[38;5;124m'\u001b[39m: [\u001b[38;5;241m25\u001b[39m, \u001b[38;5;241m30\u001b[39m, \u001b[38;5;241m35\u001b[39m]}\n",
      "\u001b[1;31mModuleNotFoundError\u001b[0m: No module named 'plotly'"
     ]
    }
   ],
   "source": [
    "\n",
    "import pandas as pd\n",
    "import plotly.express as px\n",
    "\n",
    "# Pandas: Create and manipulate a DataFrame\n",
    "data = {'Name': ['Alice', 'Bob', 'Charlie'], 'Age': [25, 30, 35]}\n",
    "df = pd.DataFrame(data)\n",
    "print(df)\n",
    "\n",
    "# Plotly: Create a bar chart\n",
    "fig = px.bar(df, x='Name', y='Age', title='Age of Individuals')\n",
    "fig.show()\n"
   ]
  },
  {
   "cell_type": "markdown",
   "metadata": {},
   "source": [
    "# DataFrame"
   ]
  },
  {
   "cell_type": "code",
   "execution_count": 2,
   "metadata": {},
   "outputs": [
    {
     "name": "stdout",
     "output_type": "stream",
     "text": [
      "   A  B\n",
      "0  1  3\n",
      "1  2  4\n"
     ]
    }
   ],
   "source": [
    "data = {'A': [1, 2], 'B': [3, 4]}\n",
    "df = pd.DataFrame(data)\n",
    "print(df)\n"
   ]
  },
  {
   "cell_type": "markdown",
   "metadata": {},
   "source": [
    "# Series"
   ]
  },
  {
   "cell_type": "code",
   "execution_count": 3,
   "metadata": {},
   "outputs": [
    {
     "name": "stdout",
     "output_type": "stream",
     "text": [
      "X    10\n",
      "Y    20\n",
      "Z    30\n",
      "dtype: int64\n"
     ]
    }
   ],
   "source": [
    "series = pd.Series([10, 20, 30], index=['X', 'Y', 'Z'])\n",
    "print(series)\n"
   ]
  },
  {
   "cell_type": "code",
   "execution_count": null,
   "metadata": {},
   "outputs": [],
   "source": []
  }
 ],
 "metadata": {
  "kernelspec": {
   "display_name": "Python 3",
   "language": "python",
   "name": "python3"
  },
  "language_info": {
   "codemirror_mode": {
    "name": "ipython",
    "version": 3
   },
   "file_extension": ".py",
   "mimetype": "text/x-python",
   "name": "python",
   "nbconvert_exporter": "python",
   "pygments_lexer": "ipython3",
   "version": "3.12.4"
  }
 },
 "nbformat": 4,
 "nbformat_minor": 2
}
